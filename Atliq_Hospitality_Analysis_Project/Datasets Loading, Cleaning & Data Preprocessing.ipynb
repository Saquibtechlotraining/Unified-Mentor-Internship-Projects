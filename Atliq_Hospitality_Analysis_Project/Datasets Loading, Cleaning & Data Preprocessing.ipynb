{
 "cells": [
  {
   "cell_type": "markdown",
   "id": "8f039fc8",
   "metadata": {},
   "source": [
    "# Project Name:  AtliQ Hospitality Analysis"
   ]
  },
  {
   "attachments": {
    "Banner%20Image.png": {
     "image/png": "[encoded data removed]"
    }
   },
   "cell_type": "markdown",
   "id": "e836103e",
   "metadata": {},
   "source": [
    "![Banner%20Image.png](attachment:Banner%20Image.png)"
   ]
  },
  {
   "cell_type": "markdown",
   "id": "e71fc789",
   "metadata": {},
   "source": [
    "#### Domain -  Travel & Tourism\n",
    "#### Contribution -  Individual\n",
    "#### Team Member -  Saquib Ahmad"
   ]
  },
  {
   "cell_type": "markdown",
   "id": "11d83271",
   "metadata": {},
   "source": [
    "## Project Summary and Problem Statement - \n",
    "Atliq Grands owns multiple five-star hotels across India. They have been in the hospitality industry for the past 20 years. \n",
    "Due to strategic moves from other competitors and ineffective decision-making in management, Atliq Grands are losing its \n",
    "market share and revenue in the luxury/business hotels category. As a strategic move, the managing director of Atliq Grands\n",
    "wanted to incorporate “Business and Data Intelligence” in order to regain their market share\n",
    "and revenue.\n",
    "\n",
    "However, they do not have an in-house data analytics team to provide them with these\n",
    "insights. Their revenue management team had decided to hire a 3rd party service provider to\n",
    "provide them with insights from their historical data."
   ]
  },
  {
   "cell_type": "markdown",
   "id": "1b3426da",
   "metadata": {},
   "source": [
    "### Case Study :\n",
    "\n",
    "● Filters by properties, city, status, platform, month and week.\n",
    "\n",
    "● Revenue, Occupancy % and Average rating cards.\n",
    "\n",
    "● Split by City, Property by key metrics.\n",
    "\n",
    "● Trends by week, Occupancy by day type, Booking % by platform."
   ]
  },
  {
   "cell_type": "markdown",
   "id": "07be21d9",
   "metadata": {},
   "source": [
    "### Technologies Use: \n",
    "\n",
    "‣ Python \n",
    "‣ Pandas\n",
    "‣ PowerBi"
   ]
  },
  {
   "cell_type": "markdown",
   "id": "30c2c247",
   "metadata": {},
   "source": [
    "### Datasets Description\n",
    "The meta information regarding the columns described in the CSV files. \n",
    "There are 5 CSV files:\n",
    "1. dim_date\n",
    "2. dim_hotels\n",
    "3. dim_rooms\n",
    "4. fact_aggregated_bookings\n",
    "5. fact_bookings\n",
    "\n",
    "\n",
    "#### Column Description for dim_date:\n",
    "1. date: This column represents the dates present in May, June and July.\n",
    "2. mmm yy: This column represents the date in the format of mmm yy (monthname year).\n",
    "3. week no: This column represents the unique week number for that particular date.\n",
    "4. day_type: This column represents whether the given day is Weekend or Weekeday.\n",
    "\n",
    "\n",
    "\n",
    "#### Column Description for dim_hotels:\n",
    "1. property_id: This column represents the Unique ID for each of the hotels.\n",
    "2. property_name: This column represents the name of each hotel.\n",
    "3. category: This column determines which class[Luxury, Business] a particular hotel/property belongs to. \n",
    "4. city: This column represents where the particular hotel/property resides in.\n",
    "\n",
    "\n",
    "\n",
    "#### Column Description for dim_rooms:\n",
    "1. room_id: This column represents the type of room[RT1, RT2, RT3, RT4] in a hotel.\n",
    "2. room_class: This column represents to which class[Standard, Elite, Premium, Presidential] particular room type belongs.\n",
    "\n",
    "\n",
    "#### Column Description for fact_aggregated_bookings:\n",
    "1. property_id: This column represents the Unique ID for each of the hotels.\n",
    "2. check_in_date: This column represents all the check_in_dates of the customers.\n",
    "3. room_category: This column represents the type of room[RT1, RT2, RT3, RT4] in a hotel.\n",
    "4. successful_bookings: This column represents all the successful room bookings that happen for a particular room type in that hotel on that particular date.\n",
    "5. capacity: This column represents the maximum count of rooms available for a particular room type in that hotel on that particular date.\n",
    "\n",
    "\n",
    "\n",
    "#### Column Description for fact_bookings:\n",
    "1. booking_id: This column represents the Unique Booking ID for each customer when they booked their rooms.\n",
    "2. property_id: This column represents the Unique ID for each of the hotels\n",
    "3. booking_date: This column represents the date on which the customer booked their rooms.\n",
    "4. check_in_date: This column represents the date on which the customer check-in(entered) at the hotel.\n",
    "5. check_out_date: This column represents the date on which the customer check-out(left) of the hotel.\n",
    "6. no_guests: This column represents the number of guests who stayed in a particular room in that hotel.\n",
    "7. room_category: This column represents the type of room[RT1, RT2, RT3, RT4] in a hotel.\n",
    "8. booking_platform: This column represents in which way the customer booked his room.\n",
    "9. ratings_given: This column represents the ratings given by the customer for hotel services.\n",
    "10. booking_status: This column represents whether the customer cancelled his booking[Cancelled], successfully stayed in the hotel[Checked Out] or booked his room but not stayed in the hotel[No show].\n",
    "11. revenue_generated: This column represents the amount of money generated by the hotel from a particular customer.\n",
    "12. revenue_realized: This column represents the final amount of money that goes to the hotel based on booking status. If the booking status is cancelled, then 40% of the revenue generated is deducted and the remaining is refunded to the customer. If the booking status is Checked Out/No show, then full revenue generated will goes to hotels.\n",
    "\n",
    "\n"
   ]
  },
  {
   "cell_type": "markdown",
   "id": "3c7d1770",
   "metadata": {},
   "source": [
    "#### Import Library"
   ]
  },
  {
   "cell_type": "code",
   "execution_count": 1,
   "id": "a871f0e3",
   "metadata": {},
   "outputs": [],
   "source": [
    "import pandas as pd"
   ]
  },
  {
   "cell_type": "markdown",
   "id": "752e93b8",
   "metadata": {},
   "source": [
    "## ➡ Datasets Loading, Data Cleaning, Data Preprocessing. "
   ]
  },
  {
   "cell_type": "markdown",
   "id": "99c47894",
   "metadata": {},
   "source": [
    "## ① 𝗱𝗶𝗺_𝗱𝗮𝘁𝗲 𝗱𝗮𝘁𝗮𝘀𝗲𝘁:-"
   ]
  },
  {
   "cell_type": "code",
   "execution_count": 2,
   "id": "5b38c55e",
   "metadata": {},
   "outputs": [
    {
     "data": {
      "text/html": [
       "<div>\n",
       "<style scoped>\n",
       "    .dataframe tbody tr th:only-of-type {\n",
       "        vertical-align: middle;\n",
       "    }\n",
       "\n",
       "    .dataframe tbody tr th {\n",
       "        vertical-align: top;\n",
       "    }\n",
       "\n",
       "    .dataframe thead th {\n",
       "        text-align: right;\n",
       "    }\n",
       "</style>\n",
       "<table border=\"1\" class=\"dataframe\">\n",
       "  <thead>\n",
       "    <tr style=\"text-align: right;\">\n",
       "      <th></th>\n",
       "      <th>date</th>\n",
       "      <th>mmm yy</th>\n",
       "      <th>week no</th>\n",
       "      <th>day_type</th>\n",
       "    </tr>\n",
       "  </thead>\n",
       "  <tbody>\n",
       "    <tr>\n",
       "      <th>0</th>\n",
       "      <td>01-May-22</td>\n",
       "      <td>May 22</td>\n",
       "      <td>W 19</td>\n",
       "      <td>weekend</td>\n",
       "    </tr>\n",
       "    <tr>\n",
       "      <th>1</th>\n",
       "      <td>02-May-22</td>\n",
       "      <td>May 22</td>\n",
       "      <td>W 19</td>\n",
       "      <td>weekeday</td>\n",
       "    </tr>\n",
       "    <tr>\n",
       "      <th>2</th>\n",
       "      <td>03-May-22</td>\n",
       "      <td>May 22</td>\n",
       "      <td>W 19</td>\n",
       "      <td>weekeday</td>\n",
       "    </tr>\n",
       "    <tr>\n",
       "      <th>3</th>\n",
       "      <td>04-May-22</td>\n",
       "      <td>May 22</td>\n",
       "      <td>W 19</td>\n",
       "      <td>weekeday</td>\n",
       "    </tr>\n",
       "    <tr>\n",
       "      <th>4</th>\n",
       "      <td>05-May-22</td>\n",
       "      <td>May 22</td>\n",
       "      <td>W 19</td>\n",
       "      <td>weekeday</td>\n",
       "    </tr>\n",
       "    <tr>\n",
       "      <th>...</th>\n",
       "      <td>...</td>\n",
       "      <td>...</td>\n",
       "      <td>...</td>\n",
       "      <td>...</td>\n",
       "    </tr>\n",
       "    <tr>\n",
       "      <th>87</th>\n",
       "      <td>27-Jul-22</td>\n",
       "      <td>Jul 22</td>\n",
       "      <td>W 31</td>\n",
       "      <td>weekeday</td>\n",
       "    </tr>\n",
       "    <tr>\n",
       "      <th>88</th>\n",
       "      <td>28-Jul-22</td>\n",
       "      <td>Jul 22</td>\n",
       "      <td>W 31</td>\n",
       "      <td>weekeday</td>\n",
       "    </tr>\n",
       "    <tr>\n",
       "      <th>89</th>\n",
       "      <td>29-Jul-22</td>\n",
       "      <td>Jul 22</td>\n",
       "      <td>W 31</td>\n",
       "      <td>weekeday</td>\n",
       "    </tr>\n",
       "    <tr>\n",
       "      <th>90</th>\n",
       "      <td>30-Jul-22</td>\n",
       "      <td>Jul 22</td>\n",
       "      <td>W 31</td>\n",
       "      <td>weekend</td>\n",
       "    </tr>\n",
       "    <tr>\n",
       "      <th>91</th>\n",
       "      <td>31-Jul-22</td>\n",
       "      <td>Jul 22</td>\n",
       "      <td>W 32</td>\n",
       "      <td>weekend</td>\n",
       "    </tr>\n",
       "  </tbody>\n",
       "</table>\n",
       "<p>92 rows × 4 columns</p>\n",
       "</div>"
      ],
      "text/plain": [
       "         date  mmm yy week no  day_type\n",
       "0   01-May-22  May 22    W 19   weekend\n",
       "1   02-May-22  May 22    W 19  weekeday\n",
       "2   03-May-22  May 22    W 19  weekeday\n",
       "3   04-May-22  May 22    W 19  weekeday\n",
       "4   05-May-22  May 22    W 19  weekeday\n",
       "..        ...     ...     ...       ...\n",
       "87  27-Jul-22  Jul 22    W 31  weekeday\n",
       "88  28-Jul-22  Jul 22    W 31  weekeday\n",
       "89  29-Jul-22  Jul 22    W 31  weekeday\n",
       "90  30-Jul-22  Jul 22    W 31   weekend\n",
       "91  31-Jul-22  Jul 22    W 32   weekend\n",
       "\n",
       "[92 rows x 4 columns]"
      ]
     },
     "execution_count": 2,
     "metadata": {},
     "output_type": "execute_result"
    }
   ],
   "source": [
    "# Load Dataset\n",
    "dd = pd.read_csv(r\"E:\\Unified_Mentor_Internship\\Atliq_Hospitality_Analysis_Project\\Hospitality_datasets\\dim_date.csv\")\n",
    "dd"
   ]
  },
  {
   "cell_type": "markdown",
   "id": "6d61008e",
   "metadata": {},
   "source": [
    "### 𝖣𝖺𝗍𝖺𝗌𝖾𝗍 𝖱𝗈𝗐𝗌 & 𝖢𝗈𝗅𝗎𝗆𝗇𝗌 𝖼𝗈𝗎𝗇𝗍"
   ]
  },
  {
   "cell_type": "code",
   "execution_count": 3,
   "id": "64264cb7",
   "metadata": {},
   "outputs": [
    {
     "data": {
      "text/plain": [
       "(92, 4)"
      ]
     },
     "execution_count": 3,
     "metadata": {},
     "output_type": "execute_result"
    }
   ],
   "source": [
    "# Dataset Rows & Columns count\n",
    "dd.shape      # There are 92 observations and 4 features in our dataset"
   ]
  },
  {
   "cell_type": "markdown",
   "id": "c4a9e8e2",
   "metadata": {},
   "source": [
    "𝐬𝐡𝐚𝐩𝐞() - The shape property returns a tuple containing the shape of the DataFrame."
   ]
  },
  {
   "cell_type": "markdown",
   "id": "43c23764",
   "metadata": {},
   "source": [
    "### 𝖣𝖺𝗍𝖺𝗌𝖾𝗍 𝖨𝗇𝖿𝗈𝗋𝗆𝖺𝗍𝗂𝗈𝗇"
   ]
  },
  {
   "cell_type": "code",
   "execution_count": 4,
   "id": "a2d6e139",
   "metadata": {},
   "outputs": [
    {
     "name": "stdout",
     "output_type": "stream",
     "text": [
      "<class 'pandas.core.frame.DataFrame'>\n",
      "RangeIndex: 92 entries, 0 to 91\n",
      "Data columns (total 4 columns):\n",
      " #   Column    Non-Null Count  Dtype \n",
      "---  ------    --------------  ----- \n",
      " 0   date      92 non-null     object\n",
      " 1   mmm yy    92 non-null     object\n",
      " 2   week no   92 non-null     object\n",
      " 3   day_type  92 non-null     object\n",
      "dtypes: object(4)\n",
      "memory usage: 3.0+ KB\n"
     ]
    }
   ],
   "source": [
    "dd.info()"
   ]
  },
  {
   "cell_type": "markdown",
   "id": "2c270b22",
   "metadata": {},
   "source": [
    "𝐢𝐧𝐟𝐨() - This method prints information about the DataFrame.\n",
    "\n",
    "There are no null values in our 𝙙𝙞𝙢_𝙙𝙖𝙩𝙚 dataset."
   ]
  },
  {
   "cell_type": "markdown",
   "id": "3a74f11c",
   "metadata": {},
   "source": [
    "### 𝖣𝗎𝗉𝗅𝗂𝖼𝖺𝗍𝖾𝖽  𝗏𝖺𝗅𝗎𝖾𝗌"
   ]
  },
  {
   "cell_type": "code",
   "execution_count": 5,
   "id": "bd0e11da",
   "metadata": {},
   "outputs": [
    {
     "data": {
      "text/plain": [
       "0"
      ]
     },
     "execution_count": 5,
     "metadata": {},
     "output_type": "execute_result"
    }
   ],
   "source": [
    "# Dataset Duplicate values count\n",
    "dd.duplicated().sum()"
   ]
  },
  {
   "cell_type": "markdown",
   "id": "f7bf4039",
   "metadata": {},
   "source": [
    "There are no duplicate values in our dataset"
   ]
  },
  {
   "cell_type": "markdown",
   "id": "af878cf2",
   "metadata": {},
   "source": [
    "### 𝗎𝗇𝗂𝗊𝗎𝖾 values"
   ]
  },
  {
   "cell_type": "code",
   "execution_count": 6,
   "id": "cbffb630",
   "metadata": {},
   "outputs": [
    {
     "data": {
      "text/plain": [
       "array(['01-May-22', '02-May-22', '03-May-22', '04-May-22', '05-May-22',\n",
       "       '06-May-22', '07-May-22', '08-May-22', '09-May-22', '10-May-22',\n",
       "       '11-May-22', '12-May-22', '13-May-22', '14-May-22', '15-May-22',\n",
       "       '16-May-22', '17-May-22', '18-May-22', '19-May-22', '20-May-22',\n",
       "       '21-May-22', '22-May-22', '23-May-22', '24-May-22', '25-May-22',\n",
       "       '26-May-22', '27-May-22', '28-May-22', '29-May-22', '30-May-22',\n",
       "       '31-May-22', '01-Jun-22', '02-Jun-22', '03-Jun-22', '04-Jun-22',\n",
       "       '05-Jun-22', '06-Jun-22', '07-Jun-22', '08-Jun-22', '09-Jun-22',\n",
       "       '10-Jun-22', '11-Jun-22', '12-Jun-22', '13-Jun-22', '14-Jun-22',\n",
       "       '15-Jun-22', '16-Jun-22', '17-Jun-22', '18-Jun-22', '19-Jun-22',\n",
       "       '20-Jun-22', '21-Jun-22', '22-Jun-22', '23-Jun-22', '24-Jun-22',\n",
       "       '25-Jun-22', '26-Jun-22', '27-Jun-22', '28-Jun-22', '29-Jun-22',\n",
       "       '30-Jun-22', '01-Jul-22', '02-Jul-22', '03-Jul-22', '04-Jul-22',\n",
       "       '05-Jul-22', '06-Jul-22', '07-Jul-22', '08-Jul-22', '09-Jul-22',\n",
       "       '10-Jul-22', '11-Jul-22', '12-Jul-22', '13-Jul-22', '14-Jul-22',\n",
       "       '15-Jul-22', '16-Jul-22', '17-Jul-22', '18-Jul-22', '19-Jul-22',\n",
       "       '20-Jul-22', '21-Jul-22', '22-Jul-22', '23-Jul-22', '24-Jul-22',\n",
       "       '25-Jul-22', '26-Jul-22', '27-Jul-22', '28-Jul-22', '29-Jul-22',\n",
       "       '30-Jul-22', '31-Jul-22'], dtype=object)"
      ]
     },
     "execution_count": 6,
     "metadata": {},
     "output_type": "execute_result"
    }
   ],
   "source": [
    "# See the unique values of date column\n",
    "dd['date'].unique()"
   ]
  },
  {
   "cell_type": "markdown",
   "id": "d5d97c75",
   "metadata": {},
   "source": [
    "𝐮𝐧𝐢𝐪𝐮𝐞() - function is used to get unique values of a Series."
   ]
  },
  {
   "cell_type": "markdown",
   "id": "3973180b",
   "metadata": {},
   "source": [
    "### Information about the Dataset\n",
    "1. We can see that there are 92 observations and 4 features in our dataset.\n",
    "2. There are no duplicate values in our dataset.\n",
    "3. There are no null values in our dataset.\n",
    "4. This dataset contains about date and (Weekend/ Weekday)."
   ]
  },
  {
   "cell_type": "markdown",
   "id": "28851449",
   "metadata": {},
   "source": [
    "### Things To Do"
   ]
  },
  {
   "cell_type": "markdown",
   "id": "e82dd687",
   "metadata": {},
   "source": [
    "1. date - Convert column into Datetime datatype\n",
    "\n",
    "2. mmm yy - Convert column into Datetime datatype.\n",
    "\n",
    "3. Create new column named: 𝐰𝐧 and store weekday by removing '𝐖 ' from 𝐰𝐞𝐞𝐤 𝐧𝐨 column.\n",
    "\n",
    "Nᴏᴛᴇ : \n",
    "         \n",
    "     The Weekend in Atliq hospitality are from 𝑭𝒓𝒊𝒅𝒂𝒚 - 𝑺𝒂𝒕𝒖𝒓𝒅𝒂𝒚\n",
    "     The Weekday in Atliq hospitality are from 𝙎𝙪𝙣𝙙𝙖𝙮 - 𝙏𝙝𝙪𝙧𝙨𝙙𝙖𝙮\n",
    "4. So, drop the day_type column and create again and store values according to the Nᴏᴛᴇ condition using date column."
   ]
  },
  {
   "cell_type": "markdown",
   "id": "3d713a38",
   "metadata": {},
   "source": [
    "## 𝐃𝐚𝐭𝐚 𝐖𝐫𝐚𝐧𝐠𝐥𝐢𝐧𝐠"
   ]
  },
  {
   "cell_type": "markdown",
   "id": "b187100c",
   "metadata": {},
   "source": [
    "### 𝖢𝗈𝗇𝗏𝖾𝗋𝗍 𝖽𝖺𝗍𝖺𝗍𝗒𝗉𝖾 𝖿𝗋𝗈𝗆 𝗈𝖻𝗃𝖾𝖼𝗍 𝗍𝗈 𝖣𝖺𝗍𝖾𝗍𝗂𝗆𝖾"
   ]
  },
  {
   "cell_type": "code",
   "execution_count": 7,
   "id": "adc94954",
   "metadata": {},
   "outputs": [
    {
     "name": "stderr",
     "output_type": "stream",
     "text": [
      "C:\\Users\\LENOVO\\AppData\\Local\\Temp\\ipykernel_10680\\3190812300.py:2: UserWarning: Could not infer format, so each element will be parsed individually, falling back to `dateutil`. To ensure parsing is consistent and as-expected, please specify a format.\n",
      "  dd['date'] = pd.to_datetime(dd['date'])\n"
     ]
    }
   ],
   "source": [
    "# date column\n",
    "dd['date'] = pd.to_datetime(dd['date'])"
   ]
  },
  {
   "cell_type": "code",
   "execution_count": 8,
   "id": "b161e091",
   "metadata": {},
   "outputs": [],
   "source": [
    "#  mmm yy column\n",
    "dd['mmm yy'] = pd.to_datetime(dd['mmm yy'], format='%b %y', errors='coerce')"
   ]
  },
  {
   "cell_type": "markdown",
   "id": "77fbe552",
   "metadata": {},
   "source": [
    "### 𝖱𝖾𝗆𝗈𝗏𝖾 '𝖶 ' 𝖿𝗋𝗈𝗆 𝐰𝐞𝐞𝐤 𝐧𝐨 𝖼𝗈𝗅𝗎𝗆𝗇 𝖺𝗇𝖽 𝗌𝗍𝗈𝗋𝖾 𝗍𝗁𝖾 𝗏𝖺𝗅𝗎𝖾 𝗂𝗇 𝗇𝖾𝗐 𝖼𝗈𝗅𝗎𝗆𝗇 𝗇𝖺𝗆𝖾𝖽: 𝐰𝐧"
   ]
  },
  {
   "cell_type": "code",
   "execution_count": 9,
   "id": "eb742e06",
   "metadata": {},
   "outputs": [
    {
     "data": {
      "text/html": [
       "<div>\n",
       "<style scoped>\n",
       "    .dataframe tbody tr th:only-of-type {\n",
       "        vertical-align: middle;\n",
       "    }\n",
       "\n",
       "    .dataframe tbody tr th {\n",
       "        vertical-align: top;\n",
       "    }\n",
       "\n",
       "    .dataframe thead th {\n",
       "        text-align: right;\n",
       "    }\n",
       "</style>\n",
       "<table border=\"1\" class=\"dataframe\">\n",
       "  <thead>\n",
       "    <tr style=\"text-align: right;\">\n",
       "      <th></th>\n",
       "      <th>date</th>\n",
       "      <th>mmm yy</th>\n",
       "      <th>week no</th>\n",
       "      <th>day_type</th>\n",
       "      <th>wn</th>\n",
       "    </tr>\n",
       "  </thead>\n",
       "  <tbody>\n",
       "    <tr>\n",
       "      <th>0</th>\n",
       "      <td>2022-05-01</td>\n",
       "      <td>2022-05-01</td>\n",
       "      <td>W 19</td>\n",
       "      <td>weekend</td>\n",
       "      <td>19</td>\n",
       "    </tr>\n",
       "    <tr>\n",
       "      <th>1</th>\n",
       "      <td>2022-05-02</td>\n",
       "      <td>2022-05-01</td>\n",
       "      <td>W 19</td>\n",
       "      <td>weekeday</td>\n",
       "      <td>19</td>\n",
       "    </tr>\n",
       "    <tr>\n",
       "      <th>2</th>\n",
       "      <td>2022-05-03</td>\n",
       "      <td>2022-05-01</td>\n",
       "      <td>W 19</td>\n",
       "      <td>weekeday</td>\n",
       "      <td>19</td>\n",
       "    </tr>\n",
       "    <tr>\n",
       "      <th>3</th>\n",
       "      <td>2022-05-04</td>\n",
       "      <td>2022-05-01</td>\n",
       "      <td>W 19</td>\n",
       "      <td>weekeday</td>\n",
       "      <td>19</td>\n",
       "    </tr>\n",
       "    <tr>\n",
       "      <th>4</th>\n",
       "      <td>2022-05-05</td>\n",
       "      <td>2022-05-01</td>\n",
       "      <td>W 19</td>\n",
       "      <td>weekeday</td>\n",
       "      <td>19</td>\n",
       "    </tr>\n",
       "    <tr>\n",
       "      <th>...</th>\n",
       "      <td>...</td>\n",
       "      <td>...</td>\n",
       "      <td>...</td>\n",
       "      <td>...</td>\n",
       "      <td>...</td>\n",
       "    </tr>\n",
       "    <tr>\n",
       "      <th>87</th>\n",
       "      <td>2022-07-27</td>\n",
       "      <td>2022-07-01</td>\n",
       "      <td>W 31</td>\n",
       "      <td>weekeday</td>\n",
       "      <td>31</td>\n",
       "    </tr>\n",
       "    <tr>\n",
       "      <th>88</th>\n",
       "      <td>2022-07-28</td>\n",
       "      <td>2022-07-01</td>\n",
       "      <td>W 31</td>\n",
       "      <td>weekeday</td>\n",
       "      <td>31</td>\n",
       "    </tr>\n",
       "    <tr>\n",
       "      <th>89</th>\n",
       "      <td>2022-07-29</td>\n",
       "      <td>2022-07-01</td>\n",
       "      <td>W 31</td>\n",
       "      <td>weekeday</td>\n",
       "      <td>31</td>\n",
       "    </tr>\n",
       "    <tr>\n",
       "      <th>90</th>\n",
       "      <td>2022-07-30</td>\n",
       "      <td>2022-07-01</td>\n",
       "      <td>W 31</td>\n",
       "      <td>weekend</td>\n",
       "      <td>31</td>\n",
       "    </tr>\n",
       "    <tr>\n",
       "      <th>91</th>\n",
       "      <td>2022-07-31</td>\n",
       "      <td>2022-07-01</td>\n",
       "      <td>W 32</td>\n",
       "      <td>weekend</td>\n",
       "      <td>32</td>\n",
       "    </tr>\n",
       "  </tbody>\n",
       "</table>\n",
       "<p>92 rows × 5 columns</p>\n",
       "</div>"
      ],
      "text/plain": [
       "         date     mmm yy week no  day_type  wn\n",
       "0  2022-05-01 2022-05-01    W 19   weekend  19\n",
       "1  2022-05-02 2022-05-01    W 19  weekeday  19\n",
       "2  2022-05-03 2022-05-01    W 19  weekeday  19\n",
       "3  2022-05-04 2022-05-01    W 19  weekeday  19\n",
       "4  2022-05-05 2022-05-01    W 19  weekeday  19\n",
       "..        ...        ...     ...       ...  ..\n",
       "87 2022-07-27 2022-07-01    W 31  weekeday  31\n",
       "88 2022-07-28 2022-07-01    W 31  weekeday  31\n",
       "89 2022-07-29 2022-07-01    W 31  weekeday  31\n",
       "90 2022-07-30 2022-07-01    W 31   weekend  31\n",
       "91 2022-07-31 2022-07-01    W 32   weekend  32\n",
       "\n",
       "[92 rows x 5 columns]"
      ]
     },
     "execution_count": 9,
     "metadata": {},
     "output_type": "execute_result"
    }
   ],
   "source": [
    "dd['wn'] = dd['week no'].str.replace('W ','')\n",
    "dd"
   ]
  },
  {
   "cell_type": "markdown",
   "id": "d01520c2",
   "metadata": {},
   "source": [
    "### 𝖣𝗋𝗈𝗉 𝖽𝖺𝗒_𝗍𝗒𝗉𝖾 𝖼𝗈𝗅𝗎𝗆𝗇"
   ]
  },
  {
   "cell_type": "code",
   "execution_count": 10,
   "id": "a9b8a67a",
   "metadata": {},
   "outputs": [],
   "source": [
    "dd.drop(columns='day_type', inplace=True)"
   ]
  },
  {
   "cell_type": "markdown",
   "id": "90a82783",
   "metadata": {},
   "source": [
    "𝐢𝐧𝐩𝐥𝐚𝐜𝐞=𝐓𝐫𝐮𝐞 - This parameter is often used in method calls to modify the existing object in place, without creating a new object."
   ]
  },
  {
   "cell_type": "markdown",
   "id": "1c3b205f",
   "metadata": {},
   "source": [
    " ### 𝖢𝗋𝖾𝖺𝗍𝖾 𝗇𝖾𝗐 𝖼𝗈𝗅𝗎𝗆𝗇 𝗇𝖺𝗆𝖾𝖽: 𝖽𝖺𝗒_𝗍𝗒𝗉𝖾 𝖺𝗇𝖽 𝗌𝗍𝗈𝗋𝖾 𝗏𝖺𝗅𝗎𝖾𝗌 𝖺𝖼𝖼𝗈𝗋𝖽𝗂𝗇𝗀 𝗍𝗈 Nᴏᴛᴇ 𝖼𝗈𝗇𝖽𝗂𝗍𝗂𝗈𝗇"
   ]
  },
  {
   "cell_type": "code",
   "execution_count": 11,
   "id": "64919f18",
   "metadata": {},
   "outputs": [
    {
     "data": {
      "text/plain": [
       "0      1\n",
       "1      2\n",
       "2      3\n",
       "3      4\n",
       "4      5\n",
       "      ..\n",
       "87    27\n",
       "88    28\n",
       "89    29\n",
       "90    30\n",
       "91    31\n",
       "Name: date, Length: 92, dtype: int32"
      ]
     },
     "execution_count": 11,
     "metadata": {},
     "output_type": "execute_result"
    }
   ],
   "source": [
    "dd['date'].dt.day"
   ]
  },
  {
   "cell_type": "code",
   "execution_count": 12,
   "id": "971b48e0",
   "metadata": {},
   "outputs": [],
   "source": [
    "def classify_day(day):\n",
    "    if day > 5:\n",
    "        return 'Weekend'\n",
    "    \n",
    "    else:\n",
    "        return 'Weekday'    "
   ]
  },
  {
   "cell_type": "code",
   "execution_count": 13,
   "id": "765a76a7",
   "metadata": {},
   "outputs": [],
   "source": [
    "dd['dat_type'] = dd['date'].dt.day.apply(classify_day)"
   ]
  },
  {
   "cell_type": "markdown",
   "id": "e633ec78",
   "metadata": {},
   "source": [
    "### 𝖣𝖺𝗍𝖺𝗌𝖾𝗍 𝖥𝗂𝗋𝗌𝗍 𝖵𝗂𝖾𝗐"
   ]
  },
  {
   "cell_type": "code",
   "execution_count": 14,
   "id": "e67b8ba7",
   "metadata": {},
   "outputs": [
    {
     "data": {
      "text/html": [
       "<div>\n",
       "<style scoped>\n",
       "    .dataframe tbody tr th:only-of-type {\n",
       "        vertical-align: middle;\n",
       "    }\n",
       "\n",
       "    .dataframe tbody tr th {\n",
       "        vertical-align: top;\n",
       "    }\n",
       "\n",
       "    .dataframe thead th {\n",
       "        text-align: right;\n",
       "    }\n",
       "</style>\n",
       "<table border=\"1\" class=\"dataframe\">\n",
       "  <thead>\n",
       "    <tr style=\"text-align: right;\">\n",
       "      <th></th>\n",
       "      <th>date</th>\n",
       "      <th>mmm yy</th>\n",
       "      <th>week no</th>\n",
       "      <th>wn</th>\n",
       "      <th>dat_type</th>\n",
       "    </tr>\n",
       "  </thead>\n",
       "  <tbody>\n",
       "    <tr>\n",
       "      <th>0</th>\n",
       "      <td>2022-05-01</td>\n",
       "      <td>2022-05-01</td>\n",
       "      <td>W 19</td>\n",
       "      <td>19</td>\n",
       "      <td>Weekday</td>\n",
       "    </tr>\n",
       "    <tr>\n",
       "      <th>1</th>\n",
       "      <td>2022-05-02</td>\n",
       "      <td>2022-05-01</td>\n",
       "      <td>W 19</td>\n",
       "      <td>19</td>\n",
       "      <td>Weekday</td>\n",
       "    </tr>\n",
       "    <tr>\n",
       "      <th>2</th>\n",
       "      <td>2022-05-03</td>\n",
       "      <td>2022-05-01</td>\n",
       "      <td>W 19</td>\n",
       "      <td>19</td>\n",
       "      <td>Weekday</td>\n",
       "    </tr>\n",
       "    <tr>\n",
       "      <th>3</th>\n",
       "      <td>2022-05-04</td>\n",
       "      <td>2022-05-01</td>\n",
       "      <td>W 19</td>\n",
       "      <td>19</td>\n",
       "      <td>Weekday</td>\n",
       "    </tr>\n",
       "    <tr>\n",
       "      <th>4</th>\n",
       "      <td>2022-05-05</td>\n",
       "      <td>2022-05-01</td>\n",
       "      <td>W 19</td>\n",
       "      <td>19</td>\n",
       "      <td>Weekday</td>\n",
       "    </tr>\n",
       "  </tbody>\n",
       "</table>\n",
       "</div>"
      ],
      "text/plain": [
       "        date     mmm yy week no  wn dat_type\n",
       "0 2022-05-01 2022-05-01    W 19  19  Weekday\n",
       "1 2022-05-02 2022-05-01    W 19  19  Weekday\n",
       "2 2022-05-03 2022-05-01    W 19  19  Weekday\n",
       "3 2022-05-04 2022-05-01    W 19  19  Weekday\n",
       "4 2022-05-05 2022-05-01    W 19  19  Weekday"
      ]
     },
     "execution_count": 14,
     "metadata": {},
     "output_type": "execute_result"
    }
   ],
   "source": [
    "dd.head()"
   ]
  },
  {
   "cell_type": "markdown",
   "id": "12d3e33a",
   "metadata": {},
   "source": [
    "𝐡𝐞𝐚𝐝() - This function is used to get the first n rows, which is five by default."
   ]
  },
  {
   "cell_type": "markdown",
   "id": "415f0ab2",
   "metadata": {},
   "source": [
    "### • 𝖭𝗈𝗐, 𝗌𝖺𝗏𝖾 𝗍𝗁𝖾 𝖼𝗅𝖾𝖺𝗇 𝖽ata as named: 𝙘𝙡𝙚𝙖𝙣_𝙙𝙞𝙢_𝙙𝙖𝙩𝙚"
   ]
  },
  {
   "cell_type": "code",
   "execution_count": 15,
   "id": "c9948d9b",
   "metadata": {},
   "outputs": [],
   "source": [
    "dd.to_csv(r'E:\\Unified_Mentor_Internship\\Atliq_Hospitality_Analysis_Project\\Clean_Hospitality_datasets\\Clean_dim_date.csv', index=False)"
   ]
  },
  {
   "cell_type": "markdown",
   "id": "13d15243",
   "metadata": {},
   "source": [
    "## ② 𝐝𝐢𝐦_𝐫𝐨𝐨𝐦𝐬 𝐝𝐚𝐭𝐚𝐬𝐞𝐭:"
   ]
  },
  {
   "cell_type": "code",
   "execution_count": 16,
   "id": "44a54e95",
   "metadata": {},
   "outputs": [
    {
     "data": {
      "text/html": [
       "<div>\n",
       "<style scoped>\n",
       "    .dataframe tbody tr th:only-of-type {\n",
       "        vertical-align: middle;\n",
       "    }\n",
       "\n",
       "    .dataframe tbody tr th {\n",
       "        vertical-align: top;\n",
       "    }\n",
       "\n",
       "    .dataframe thead th {\n",
       "        text-align: right;\n",
       "    }\n",
       "</style>\n",
       "<table border=\"1\" class=\"dataframe\">\n",
       "  <thead>\n",
       "    <tr style=\"text-align: right;\">\n",
       "      <th></th>\n",
       "      <th>room_id</th>\n",
       "      <th>room_class</th>\n",
       "    </tr>\n",
       "  </thead>\n",
       "  <tbody>\n",
       "    <tr>\n",
       "      <th>0</th>\n",
       "      <td>RT1</td>\n",
       "      <td>Standard</td>\n",
       "    </tr>\n",
       "    <tr>\n",
       "      <th>1</th>\n",
       "      <td>RT2</td>\n",
       "      <td>Elite</td>\n",
       "    </tr>\n",
       "    <tr>\n",
       "      <th>2</th>\n",
       "      <td>RT3</td>\n",
       "      <td>Premium</td>\n",
       "    </tr>\n",
       "    <tr>\n",
       "      <th>3</th>\n",
       "      <td>RT4</td>\n",
       "      <td>Presidential</td>\n",
       "    </tr>\n",
       "  </tbody>\n",
       "</table>\n",
       "</div>"
      ],
      "text/plain": [
       "  room_id    room_class\n",
       "0     RT1      Standard\n",
       "1     RT2         Elite\n",
       "2     RT3       Premium\n",
       "3     RT4  Presidential"
      ]
     },
     "execution_count": 16,
     "metadata": {},
     "output_type": "execute_result"
    }
   ],
   "source": [
    "dr = pd.read_csv(r\"E:\\Unified_Mentor_Internship\\Atliq_Hospitality_Analysis_Project\\Hospitality_datasets\\dim_rooms.csv\")\n",
    "dr"
   ]
  },
  {
   "cell_type": "markdown",
   "id": "733d80a3",
   "metadata": {},
   "source": [
    "### Information about the Dataset\n",
    "1. We can see that different room class with different room_id."
   ]
  },
  {
   "cell_type": "markdown",
   "id": "2920efdb",
   "metadata": {},
   "source": [
    "###  • For the 𝙙𝙞𝙢_𝙧𝙤𝙤𝙢𝙨 dataset there is not need to clean or do anythhing so resave it again as  named: 𝙘𝙡𝙚𝙖𝙣_𝙙𝙞𝙢_𝙧𝙤𝙤𝙢𝙨 "
   ]
  },
  {
   "cell_type": "code",
   "execution_count": 17,
   "id": "be7264ad",
   "metadata": {},
   "outputs": [],
   "source": [
    "dr.to_csv(r'E:\\Unified_Mentor_Internship\\Atliq_Hospitality_Analysis_Project\\Clean_Hospitality_datasets\\clean_dim_rooms.csv', index=False)"
   ]
  },
  {
   "cell_type": "markdown",
   "id": "e71ec6c2",
   "metadata": {},
   "source": [
    "## ③ fact_aggregated_bookings dataset:-"
   ]
  },
  {
   "cell_type": "code",
   "execution_count": 18,
   "id": "c10d3626",
   "metadata": {},
   "outputs": [
    {
     "data": {
      "text/html": [
       "<div>\n",
       "<style scoped>\n",
       "    .dataframe tbody tr th:only-of-type {\n",
       "        vertical-align: middle;\n",
       "    }\n",
       "\n",
       "    .dataframe tbody tr th {\n",
       "        vertical-align: top;\n",
       "    }\n",
       "\n",
       "    .dataframe thead th {\n",
       "        text-align: right;\n",
       "    }\n",
       "</style>\n",
       "<table border=\"1\" class=\"dataframe\">\n",
       "  <thead>\n",
       "    <tr style=\"text-align: right;\">\n",
       "      <th></th>\n",
       "      <th>property_id</th>\n",
       "      <th>check_in_date</th>\n",
       "      <th>room_category</th>\n",
       "      <th>successful_bookings</th>\n",
       "      <th>capacity</th>\n",
       "    </tr>\n",
       "  </thead>\n",
       "  <tbody>\n",
       "    <tr>\n",
       "      <th>0</th>\n",
       "      <td>16559</td>\n",
       "      <td>01-May-22</td>\n",
       "      <td>RT1</td>\n",
       "      <td>25</td>\n",
       "      <td>30</td>\n",
       "    </tr>\n",
       "    <tr>\n",
       "      <th>1</th>\n",
       "      <td>19562</td>\n",
       "      <td>01-May-22</td>\n",
       "      <td>RT1</td>\n",
       "      <td>28</td>\n",
       "      <td>30</td>\n",
       "    </tr>\n",
       "    <tr>\n",
       "      <th>2</th>\n",
       "      <td>19563</td>\n",
       "      <td>01-May-22</td>\n",
       "      <td>RT1</td>\n",
       "      <td>23</td>\n",
       "      <td>30</td>\n",
       "    </tr>\n",
       "    <tr>\n",
       "      <th>3</th>\n",
       "      <td>17558</td>\n",
       "      <td>01-May-22</td>\n",
       "      <td>RT1</td>\n",
       "      <td>13</td>\n",
       "      <td>19</td>\n",
       "    </tr>\n",
       "    <tr>\n",
       "      <th>4</th>\n",
       "      <td>16558</td>\n",
       "      <td>01-May-22</td>\n",
       "      <td>RT1</td>\n",
       "      <td>18</td>\n",
       "      <td>19</td>\n",
       "    </tr>\n",
       "    <tr>\n",
       "      <th>...</th>\n",
       "      <td>...</td>\n",
       "      <td>...</td>\n",
       "      <td>...</td>\n",
       "      <td>...</td>\n",
       "      <td>...</td>\n",
       "    </tr>\n",
       "    <tr>\n",
       "      <th>9195</th>\n",
       "      <td>16563</td>\n",
       "      <td>31-Jul-22</td>\n",
       "      <td>RT4</td>\n",
       "      <td>13</td>\n",
       "      <td>18</td>\n",
       "    </tr>\n",
       "    <tr>\n",
       "      <th>9196</th>\n",
       "      <td>16559</td>\n",
       "      <td>31-Jul-22</td>\n",
       "      <td>RT4</td>\n",
       "      <td>13</td>\n",
       "      <td>18</td>\n",
       "    </tr>\n",
       "    <tr>\n",
       "      <th>9197</th>\n",
       "      <td>17558</td>\n",
       "      <td>31-Jul-22</td>\n",
       "      <td>RT4</td>\n",
       "      <td>3</td>\n",
       "      <td>6</td>\n",
       "    </tr>\n",
       "    <tr>\n",
       "      <th>9198</th>\n",
       "      <td>19563</td>\n",
       "      <td>31-Jul-22</td>\n",
       "      <td>RT4</td>\n",
       "      <td>3</td>\n",
       "      <td>6</td>\n",
       "    </tr>\n",
       "    <tr>\n",
       "      <th>9199</th>\n",
       "      <td>17561</td>\n",
       "      <td>31-Jul-22</td>\n",
       "      <td>RT4</td>\n",
       "      <td>3</td>\n",
       "      <td>4</td>\n",
       "    </tr>\n",
       "  </tbody>\n",
       "</table>\n",
       "<p>9200 rows × 5 columns</p>\n",
       "</div>"
      ],
      "text/plain": [
       "      property_id check_in_date room_category  successful_bookings  capacity\n",
       "0           16559     01-May-22           RT1                   25        30\n",
       "1           19562     01-May-22           RT1                   28        30\n",
       "2           19563     01-May-22           RT1                   23        30\n",
       "3           17558     01-May-22           RT1                   13        19\n",
       "4           16558     01-May-22           RT1                   18        19\n",
       "...           ...           ...           ...                  ...       ...\n",
       "9195        16563     31-Jul-22           RT4                   13        18\n",
       "9196        16559     31-Jul-22           RT4                   13        18\n",
       "9197        17558     31-Jul-22           RT4                    3         6\n",
       "9198        19563     31-Jul-22           RT4                    3         6\n",
       "9199        17561     31-Jul-22           RT4                    3         4\n",
       "\n",
       "[9200 rows x 5 columns]"
      ]
     },
     "execution_count": 18,
     "metadata": {},
     "output_type": "execute_result"
    }
   ],
   "source": [
    "fab = pd.read_csv(r\"E:\\Unified_Mentor_Internship\\Atliq_Hospitality_Analysis_Project\\Hospitality_datasets\\fact_aggregated_bookings.csv\")\n",
    "fab"
   ]
  },
  {
   "cell_type": "markdown",
   "id": "23932b72",
   "metadata": {},
   "source": [
    "### 𝖣𝖺𝗍𝖺𝗌𝖾𝗍 𝖱𝗈𝗐𝗌 & 𝖢𝗈𝗅𝗎𝗆𝗇𝗌 𝖼𝗈𝗎𝗇𝗍"
   ]
  },
  {
   "cell_type": "code",
   "execution_count": 19,
   "id": "437c299c",
   "metadata": {},
   "outputs": [
    {
     "data": {
      "text/plain": [
       "(9200, 5)"
      ]
     },
     "execution_count": 19,
     "metadata": {},
     "output_type": "execute_result"
    }
   ],
   "source": [
    "# Dataset Rows & Columns count\n",
    "fab.shape    # There are 9200 observations and 5 features in our dataset"
   ]
  },
  {
   "cell_type": "markdown",
   "id": "d16da93f",
   "metadata": {},
   "source": [
    "𝐬𝐡𝐚𝐩𝐞() - The shape property returns a tuple containing the shape of the DataFrame."
   ]
  },
  {
   "cell_type": "markdown",
   "id": "ed2ada01",
   "metadata": {},
   "source": [
    "### 𝖣𝖺𝗍𝖺𝗌𝖾𝗍 𝖨𝗇𝖿𝗈𝗋𝗆𝖺𝗍𝗂𝗈𝗇"
   ]
  },
  {
   "cell_type": "code",
   "execution_count": 20,
   "id": "b8c7db0e",
   "metadata": {},
   "outputs": [
    {
     "name": "stdout",
     "output_type": "stream",
     "text": [
      "<class 'pandas.core.frame.DataFrame'>\n",
      "RangeIndex: 9200 entries, 0 to 9199\n",
      "Data columns (total 5 columns):\n",
      " #   Column               Non-Null Count  Dtype \n",
      "---  ------               --------------  ----- \n",
      " 0   property_id          9200 non-null   int64 \n",
      " 1   check_in_date        9200 non-null   object\n",
      " 2   room_category        9200 non-null   object\n",
      " 3   successful_bookings  9200 non-null   int64 \n",
      " 4   capacity             9200 non-null   int64 \n",
      "dtypes: int64(3), object(2)\n",
      "memory usage: 359.5+ KB\n"
     ]
    }
   ],
   "source": [
    "fab.info()"
   ]
  },
  {
   "cell_type": "markdown",
   "id": "6a6af78d",
   "metadata": {},
   "source": [
    "𝐢𝐧𝐟𝐨() - This method prints information about the DataFrame.\n",
    "\n",
    "There are no null values in our 𝙛𝙖𝙘𝙩_𝙖𝙜𝙜𝙧𝙚𝙜𝙖𝙩𝙚𝙙_𝙗𝙤𝙤𝙠𝙞𝙣𝙜𝙨 dataset."
   ]
  },
  {
   "cell_type": "markdown",
   "id": "645b57a0",
   "metadata": {},
   "source": [
    "### Information about the Dataset\n",
    "1. We can see that there are 9200 observations and 5 features in our dataset.\n",
    "2. There are no null values in our 𝙛𝙖𝙘𝙩_𝙖𝙜𝙜𝙧𝙚𝙜𝙖𝙩𝙚𝙙_𝙗𝙤𝙤𝙠𝙞𝙣𝙜𝙨 dataset.\n",
    "3. Capacity of booked rooms\n",
    "4. Total capacity of room.\n",
    "5. Rooms category and check in date."
   ]
  },
  {
   "cell_type": "markdown",
   "id": "0c42ed82",
   "metadata": {},
   "source": [
    "## Things To Do"
   ]
  },
  {
   "cell_type": "markdown",
   "id": "8f5b53f6",
   "metadata": {},
   "source": [
    "1. Convert check_in_date column from object to Datetime."
   ]
  },
  {
   "cell_type": "markdown",
   "id": "09481bb9",
   "metadata": {},
   "source": [
    "## 𝐃𝐚𝐭𝐚 𝐖𝐫𝐚𝐧𝐠𝐥𝐢𝐧𝐠"
   ]
  },
  {
   "cell_type": "markdown",
   "id": "a661ee39",
   "metadata": {},
   "source": [
    "### 𝖢𝗈𝗇𝗏𝖾𝗋𝗍 𝖽𝖺𝗍𝖺𝗍𝗒𝗉𝖾 𝖿𝗋𝗈𝗆 𝗈𝖻𝗃𝖾𝖼𝗍 𝗍𝗈 𝖣𝖺𝗍𝖾𝗍𝗂𝗆𝖾"
   ]
  },
  {
   "cell_type": "code",
   "execution_count": 21,
   "id": "459173b5",
   "metadata": {},
   "outputs": [
    {
     "name": "stderr",
     "output_type": "stream",
     "text": [
      "C:\\Users\\LENOVO\\AppData\\Local\\Temp\\ipykernel_10680\\506347651.py:2: UserWarning: Could not infer format, so each element will be parsed individually, falling back to `dateutil`. To ensure parsing is consistent and as-expected, please specify a format.\n",
      "  fab['check_in_date'] = pd.to_datetime(fab['check_in_date'])\n"
     ]
    }
   ],
   "source": [
    "# check_in_date column\n",
    "fab['check_in_date'] = pd.to_datetime(fab['check_in_date'])"
   ]
  },
  {
   "cell_type": "markdown",
   "id": "3276681d",
   "metadata": {},
   "source": [
    "### 𝖣𝖺𝗍𝖺𝗌𝖾𝗍 𝖥𝗂𝗋𝗌𝗍 𝖵𝗂𝖾𝗐"
   ]
  },
  {
   "cell_type": "code",
   "execution_count": 22,
   "id": "51f4286a",
   "metadata": {},
   "outputs": [
    {
     "data": {
      "text/html": [
       "<div>\n",
       "<style scoped>\n",
       "    .dataframe tbody tr th:only-of-type {\n",
       "        vertical-align: middle;\n",
       "    }\n",
       "\n",
       "    .dataframe tbody tr th {\n",
       "        vertical-align: top;\n",
       "    }\n",
       "\n",
       "    .dataframe thead th {\n",
       "        text-align: right;\n",
       "    }\n",
       "</style>\n",
       "<table border=\"1\" class=\"dataframe\">\n",
       "  <thead>\n",
       "    <tr style=\"text-align: right;\">\n",
       "      <th></th>\n",
       "      <th>property_id</th>\n",
       "      <th>check_in_date</th>\n",
       "      <th>room_category</th>\n",
       "      <th>successful_bookings</th>\n",
       "      <th>capacity</th>\n",
       "    </tr>\n",
       "  </thead>\n",
       "  <tbody>\n",
       "    <tr>\n",
       "      <th>0</th>\n",
       "      <td>16559</td>\n",
       "      <td>2022-05-01</td>\n",
       "      <td>RT1</td>\n",
       "      <td>25</td>\n",
       "      <td>30</td>\n",
       "    </tr>\n",
       "    <tr>\n",
       "      <th>1</th>\n",
       "      <td>19562</td>\n",
       "      <td>2022-05-01</td>\n",
       "      <td>RT1</td>\n",
       "      <td>28</td>\n",
       "      <td>30</td>\n",
       "    </tr>\n",
       "    <tr>\n",
       "      <th>2</th>\n",
       "      <td>19563</td>\n",
       "      <td>2022-05-01</td>\n",
       "      <td>RT1</td>\n",
       "      <td>23</td>\n",
       "      <td>30</td>\n",
       "    </tr>\n",
       "    <tr>\n",
       "      <th>3</th>\n",
       "      <td>17558</td>\n",
       "      <td>2022-05-01</td>\n",
       "      <td>RT1</td>\n",
       "      <td>13</td>\n",
       "      <td>19</td>\n",
       "    </tr>\n",
       "    <tr>\n",
       "      <th>4</th>\n",
       "      <td>16558</td>\n",
       "      <td>2022-05-01</td>\n",
       "      <td>RT1</td>\n",
       "      <td>18</td>\n",
       "      <td>19</td>\n",
       "    </tr>\n",
       "  </tbody>\n",
       "</table>\n",
       "</div>"
      ],
      "text/plain": [
       "   property_id check_in_date room_category  successful_bookings  capacity\n",
       "0        16559    2022-05-01           RT1                   25        30\n",
       "1        19562    2022-05-01           RT1                   28        30\n",
       "2        19563    2022-05-01           RT1                   23        30\n",
       "3        17558    2022-05-01           RT1                   13        19\n",
       "4        16558    2022-05-01           RT1                   18        19"
      ]
     },
     "execution_count": 22,
     "metadata": {},
     "output_type": "execute_result"
    }
   ],
   "source": [
    "fab.head()"
   ]
  },
  {
   "cell_type": "markdown",
   "id": "3b3936ef",
   "metadata": {},
   "source": [
    "𝐡𝐞𝐚𝐝() - This function is used to get the first n rows, which is five by default."
   ]
  },
  {
   "cell_type": "markdown",
   "id": "a531491c",
   "metadata": {},
   "source": [
    "### • 𝖭𝗈𝗐, 𝗌𝖺𝗏𝖾 𝗍𝗁𝖾 𝖼𝗅𝖾𝖺𝗇 𝖽ata as named: 𝙘𝙡𝙚𝙖𝙣_𝙛𝙖𝙘𝙩_𝙖𝙜𝙜𝙧𝙚𝙜𝙖𝙩𝙚𝙙_𝙗𝙤𝙤𝙠𝙞𝙣𝙜𝙨 "
   ]
  },
  {
   "cell_type": "code",
   "execution_count": 23,
   "id": "b59b3a0e",
   "metadata": {},
   "outputs": [],
   "source": [
    "fab.to_csv(r\"E:\\Unified_Mentor_Internship\\Atliq_Hospitality_Analysis_Project\\Clean_Hospitality_datasets\\clean_fact_aggregated_bookings.csv\", index=False)"
   ]
  },
  {
   "cell_type": "markdown",
   "id": "7145df35",
   "metadata": {},
   "source": [
    "## ④ 𝐟𝐚𝐜𝐭_𝐛𝐨𝐨𝐤𝐢𝐧𝐠𝐬 𝐝𝐚𝐭𝐚𝐬𝐞𝐭:-"
   ]
  },
  {
   "cell_type": "code",
   "execution_count": 24,
   "id": "d430f746",
   "metadata": {},
   "outputs": [
    {
     "data": {
      "text/html": [
       "<div>\n",
       "<style scoped>\n",
       "    .dataframe tbody tr th:only-of-type {\n",
       "        vertical-align: middle;\n",
       "    }\n",
       "\n",
       "    .dataframe tbody tr th {\n",
       "        vertical-align: top;\n",
       "    }\n",
       "\n",
       "    .dataframe thead th {\n",
       "        text-align: right;\n",
       "    }\n",
       "</style>\n",
       "<table border=\"1\" class=\"dataframe\">\n",
       "  <thead>\n",
       "    <tr style=\"text-align: right;\">\n",
       "      <th></th>\n",
       "      <th>booking_id</th>\n",
       "      <th>property_id</th>\n",
       "      <th>booking_date</th>\n",
       "      <th>check_in_date</th>\n",
       "      <th>checkout_date</th>\n",
       "      <th>no_guests</th>\n",
       "      <th>room_category</th>\n",
       "      <th>booking_platform</th>\n",
       "      <th>ratings_given</th>\n",
       "      <th>booking_status</th>\n",
       "      <th>revenue_generated</th>\n",
       "      <th>revenue_realized</th>\n",
       "    </tr>\n",
       "  </thead>\n",
       "  <tbody>\n",
       "    <tr>\n",
       "      <th>0</th>\n",
       "      <td>May012216558RT11</td>\n",
       "      <td>16558</td>\n",
       "      <td>2022-04-27</td>\n",
       "      <td>2022-05-01</td>\n",
       "      <td>2022-05-02</td>\n",
       "      <td>3</td>\n",
       "      <td>RT1</td>\n",
       "      <td>direct online</td>\n",
       "      <td>1.0</td>\n",
       "      <td>Checked Out</td>\n",
       "      <td>10010</td>\n",
       "      <td>10010</td>\n",
       "    </tr>\n",
       "    <tr>\n",
       "      <th>1</th>\n",
       "      <td>May012216558RT12</td>\n",
       "      <td>16558</td>\n",
       "      <td>2022-04-30</td>\n",
       "      <td>2022-05-01</td>\n",
       "      <td>2022-05-02</td>\n",
       "      <td>2</td>\n",
       "      <td>RT1</td>\n",
       "      <td>others</td>\n",
       "      <td>NaN</td>\n",
       "      <td>Cancelled</td>\n",
       "      <td>9100</td>\n",
       "      <td>3640</td>\n",
       "    </tr>\n",
       "    <tr>\n",
       "      <th>2</th>\n",
       "      <td>May012216558RT13</td>\n",
       "      <td>16558</td>\n",
       "      <td>2022-04-28</td>\n",
       "      <td>2022-05-01</td>\n",
       "      <td>2022-05-04</td>\n",
       "      <td>2</td>\n",
       "      <td>RT1</td>\n",
       "      <td>logtrip</td>\n",
       "      <td>5.0</td>\n",
       "      <td>Checked Out</td>\n",
       "      <td>9100</td>\n",
       "      <td>9100</td>\n",
       "    </tr>\n",
       "    <tr>\n",
       "      <th>3</th>\n",
       "      <td>May012216558RT14</td>\n",
       "      <td>16558</td>\n",
       "      <td>2022-04-28</td>\n",
       "      <td>2022-05-01</td>\n",
       "      <td>2022-05-02</td>\n",
       "      <td>2</td>\n",
       "      <td>RT1</td>\n",
       "      <td>others</td>\n",
       "      <td>NaN</td>\n",
       "      <td>Cancelled</td>\n",
       "      <td>9100</td>\n",
       "      <td>3640</td>\n",
       "    </tr>\n",
       "    <tr>\n",
       "      <th>4</th>\n",
       "      <td>May012216558RT15</td>\n",
       "      <td>16558</td>\n",
       "      <td>2022-04-27</td>\n",
       "      <td>2022-05-01</td>\n",
       "      <td>2022-05-02</td>\n",
       "      <td>4</td>\n",
       "      <td>RT1</td>\n",
       "      <td>direct online</td>\n",
       "      <td>5.0</td>\n",
       "      <td>Checked Out</td>\n",
       "      <td>10920</td>\n",
       "      <td>10920</td>\n",
       "    </tr>\n",
       "    <tr>\n",
       "      <th>...</th>\n",
       "      <td>...</td>\n",
       "      <td>...</td>\n",
       "      <td>...</td>\n",
       "      <td>...</td>\n",
       "      <td>...</td>\n",
       "      <td>...</td>\n",
       "      <td>...</td>\n",
       "      <td>...</td>\n",
       "      <td>...</td>\n",
       "      <td>...</td>\n",
       "      <td>...</td>\n",
       "      <td>...</td>\n",
       "    </tr>\n",
       "    <tr>\n",
       "      <th>134585</th>\n",
       "      <td>Jul312217564RT46</td>\n",
       "      <td>17564</td>\n",
       "      <td>2022-07-29</td>\n",
       "      <td>2022-07-31</td>\n",
       "      <td>2022-08-03</td>\n",
       "      <td>1</td>\n",
       "      <td>RT4</td>\n",
       "      <td>makeyourtrip</td>\n",
       "      <td>2.0</td>\n",
       "      <td>Checked Out</td>\n",
       "      <td>32300</td>\n",
       "      <td>32300</td>\n",
       "    </tr>\n",
       "    <tr>\n",
       "      <th>134586</th>\n",
       "      <td>Jul312217564RT47</td>\n",
       "      <td>17564</td>\n",
       "      <td>2022-07-30</td>\n",
       "      <td>2022-07-31</td>\n",
       "      <td>2022-08-01</td>\n",
       "      <td>4</td>\n",
       "      <td>RT4</td>\n",
       "      <td>logtrip</td>\n",
       "      <td>2.0</td>\n",
       "      <td>Checked Out</td>\n",
       "      <td>38760</td>\n",
       "      <td>38760</td>\n",
       "    </tr>\n",
       "    <tr>\n",
       "      <th>134587</th>\n",
       "      <td>Jul312217564RT48</td>\n",
       "      <td>17564</td>\n",
       "      <td>2022-07-30</td>\n",
       "      <td>2022-07-31</td>\n",
       "      <td>2022-08-02</td>\n",
       "      <td>1</td>\n",
       "      <td>RT4</td>\n",
       "      <td>tripster</td>\n",
       "      <td>NaN</td>\n",
       "      <td>Cancelled</td>\n",
       "      <td>32300</td>\n",
       "      <td>12920</td>\n",
       "    </tr>\n",
       "    <tr>\n",
       "      <th>134588</th>\n",
       "      <td>Jul312217564RT49</td>\n",
       "      <td>17564</td>\n",
       "      <td>2022-07-29</td>\n",
       "      <td>2022-07-31</td>\n",
       "      <td>2022-08-01</td>\n",
       "      <td>2</td>\n",
       "      <td>RT4</td>\n",
       "      <td>logtrip</td>\n",
       "      <td>2.0</td>\n",
       "      <td>Checked Out</td>\n",
       "      <td>32300</td>\n",
       "      <td>32300</td>\n",
       "    </tr>\n",
       "    <tr>\n",
       "      <th>134589</th>\n",
       "      <td>Jul312217564RT410</td>\n",
       "      <td>17564</td>\n",
       "      <td>2022-07-31</td>\n",
       "      <td>2022-07-31</td>\n",
       "      <td>2022-08-01</td>\n",
       "      <td>2</td>\n",
       "      <td>RT4</td>\n",
       "      <td>makeyourtrip</td>\n",
       "      <td>NaN</td>\n",
       "      <td>Cancelled</td>\n",
       "      <td>32300</td>\n",
       "      <td>12920</td>\n",
       "    </tr>\n",
       "  </tbody>\n",
       "</table>\n",
       "<p>134590 rows × 12 columns</p>\n",
       "</div>"
      ],
      "text/plain": [
       "               booking_id  property_id booking_date check_in_date   \n",
       "0        May012216558RT11        16558   2022-04-27    2022-05-01  \\\n",
       "1        May012216558RT12        16558   2022-04-30    2022-05-01   \n",
       "2        May012216558RT13        16558   2022-04-28    2022-05-01   \n",
       "3        May012216558RT14        16558   2022-04-28    2022-05-01   \n",
       "4        May012216558RT15        16558   2022-04-27    2022-05-01   \n",
       "...                   ...          ...          ...           ...   \n",
       "134585   Jul312217564RT46        17564   2022-07-29    2022-07-31   \n",
       "134586   Jul312217564RT47        17564   2022-07-30    2022-07-31   \n",
       "134587   Jul312217564RT48        17564   2022-07-30    2022-07-31   \n",
       "134588   Jul312217564RT49        17564   2022-07-29    2022-07-31   \n",
       "134589  Jul312217564RT410        17564   2022-07-31    2022-07-31   \n",
       "\n",
       "       checkout_date  no_guests room_category booking_platform  ratings_given   \n",
       "0         2022-05-02          3           RT1    direct online            1.0  \\\n",
       "1         2022-05-02          2           RT1           others            NaN   \n",
       "2         2022-05-04          2           RT1          logtrip            5.0   \n",
       "3         2022-05-02          2           RT1           others            NaN   \n",
       "4         2022-05-02          4           RT1    direct online            5.0   \n",
       "...              ...        ...           ...              ...            ...   \n",
       "134585    2022-08-03          1           RT4     makeyourtrip            2.0   \n",
       "134586    2022-08-01          4           RT4          logtrip            2.0   \n",
       "134587    2022-08-02          1           RT4         tripster            NaN   \n",
       "134588    2022-08-01          2           RT4          logtrip            2.0   \n",
       "134589    2022-08-01          2           RT4     makeyourtrip            NaN   \n",
       "\n",
       "       booking_status  revenue_generated  revenue_realized  \n",
       "0         Checked Out              10010             10010  \n",
       "1           Cancelled               9100              3640  \n",
       "2         Checked Out               9100              9100  \n",
       "3           Cancelled               9100              3640  \n",
       "4         Checked Out              10920             10920  \n",
       "...               ...                ...               ...  \n",
       "134585    Checked Out              32300             32300  \n",
       "134586    Checked Out              38760             38760  \n",
       "134587      Cancelled              32300             12920  \n",
       "134588    Checked Out              32300             32300  \n",
       "134589      Cancelled              32300             12920  \n",
       "\n",
       "[134590 rows x 12 columns]"
      ]
     },
     "execution_count": 24,
     "metadata": {},
     "output_type": "execute_result"
    }
   ],
   "source": [
    "fb = pd.read_csv(r\"E:\\Unified_Mentor_Internship\\Atliq_Hospitality_Analysis_Project\\Hospitality_datasets\\fact_bookings.csv\")\n",
    "fb"
   ]
  },
  {
   "cell_type": "markdown",
   "id": "c040919e",
   "metadata": {},
   "source": [
    "### 𝖣𝖺𝗍𝖺𝗌𝖾𝗍 𝖱𝗈𝗐𝗌 & 𝖢𝗈𝗅𝗎𝗆𝗇𝗌 𝖼𝗈𝗎𝗇𝗍"
   ]
  },
  {
   "cell_type": "code",
   "execution_count": 25,
   "id": "629a8027",
   "metadata": {},
   "outputs": [
    {
     "data": {
      "text/plain": [
       "(134590, 12)"
      ]
     },
     "execution_count": 25,
     "metadata": {},
     "output_type": "execute_result"
    }
   ],
   "source": [
    "# Dataset Rows & Columns count\n",
    "fb.shape    # There are 134590 observations and 12 features in our dataset"
   ]
  },
  {
   "cell_type": "markdown",
   "id": "0ec139b7",
   "metadata": {},
   "source": [
    "𝐬𝐡𝐚𝐩𝐞() - The shape property returns a tuple containing the shape of the DataFrame."
   ]
  },
  {
   "cell_type": "markdown",
   "id": "88db7853",
   "metadata": {},
   "source": [
    "### 𝖣𝖺𝗍𝖺𝗌𝖾𝗍 𝖨𝗇𝖿𝗈𝗋𝗆𝖺𝗍𝗂𝗈𝗇"
   ]
  },
  {
   "cell_type": "code",
   "execution_count": 26,
   "id": "3a306663",
   "metadata": {},
   "outputs": [
    {
     "name": "stdout",
     "output_type": "stream",
     "text": [
      "<class 'pandas.core.frame.DataFrame'>\n",
      "RangeIndex: 134590 entries, 0 to 134589\n",
      "Data columns (total 12 columns):\n",
      " #   Column             Non-Null Count   Dtype  \n",
      "---  ------             --------------   -----  \n",
      " 0   booking_id         134590 non-null  object \n",
      " 1   property_id        134590 non-null  int64  \n",
      " 2   booking_date       134590 non-null  object \n",
      " 3   check_in_date      134590 non-null  object \n",
      " 4   checkout_date      134590 non-null  object \n",
      " 5   no_guests          134590 non-null  int64  \n",
      " 6   room_category      134590 non-null  object \n",
      " 7   booking_platform   134590 non-null  object \n",
      " 8   ratings_given      56683 non-null   float64\n",
      " 9   booking_status     134590 non-null  object \n",
      " 10  revenue_generated  134590 non-null  int64  \n",
      " 11  revenue_realized   134590 non-null  int64  \n",
      "dtypes: float64(1), int64(4), object(7)\n",
      "memory usage: 12.3+ MB\n"
     ]
    }
   ],
   "source": [
    "fb.info()"
   ]
  },
  {
   "cell_type": "markdown",
   "id": "049d0cb7",
   "metadata": {},
   "source": [
    "𝐢𝐧𝐟𝐨() - This method prints information about the DataFrame.\n",
    "\n",
    "There are null values in 𝙧𝙖𝙩𝙞𝙣𝙜𝙨_𝙜𝙞𝙫𝙚𝙣 column but i shouldn't fix because it rate according to the service."
   ]
  },
  {
   "cell_type": "markdown",
   "id": "8101f862",
   "metadata": {},
   "source": [
    "### 𝖣𝗎𝗉𝗅𝗂𝖼𝖺𝗍𝖾𝖽  𝗏𝖺𝗅𝗎𝖾𝗌"
   ]
  },
  {
   "cell_type": "code",
   "execution_count": 27,
   "id": "1a1c60f7",
   "metadata": {},
   "outputs": [
    {
     "data": {
      "text/plain": [
       "0"
      ]
     },
     "execution_count": 27,
     "metadata": {},
     "output_type": "execute_result"
    }
   ],
   "source": [
    "# Dataset duplicate value count\n",
    "fb.duplicated().sum()"
   ]
  },
  {
   "cell_type": "markdown",
   "id": "60c42ccd",
   "metadata": {},
   "source": [
    "There are no duplicate values in our dataset"
   ]
  },
  {
   "cell_type": "markdown",
   "id": "28de7064",
   "metadata": {},
   "source": [
    "### Information about the Dataset\n",
    "1. We can see that there are 134590 observations and 12 features in our dataset.\n",
    "2. There are no duplicate values in our dataset.\n",
    "3. There are null values in 𝙧𝙖𝙩𝙞𝙣𝙜𝙨_𝙜𝙞𝙫𝙚𝙣 column in our dataset."
   ]
  },
  {
   "cell_type": "markdown",
   "id": "7500789e",
   "metadata": {},
   "source": [
    "## Things To Do\n",
    "1. booking_date -  Change datatype from object to Datetime.\n",
    "2. check_in_date - Change datatype from object to Datetime.\n",
    "3. checkout_date - Change datatype from object to Datetime."
   ]
  },
  {
   "cell_type": "markdown",
   "id": "883c938d",
   "metadata": {},
   "source": [
    "## 𝐃𝐚𝐭𝐚 𝐖𝐫𝐚𝐧𝐠𝐥𝐢𝐧𝐠"
   ]
  },
  {
   "cell_type": "markdown",
   "id": "bb222e34",
   "metadata": {},
   "source": [
    "### 𝖢𝗈𝗇𝗏𝖾𝗋𝗍 𝖽𝖺𝗍𝖺𝗍𝗒𝗉𝖾 𝖿𝗋𝗈𝗆 𝗈𝖻𝗃𝖾𝖼𝗍 𝗍𝗈 𝖣𝖺𝗍𝖾𝗍𝗂𝗆𝖾"
   ]
  },
  {
   "cell_type": "code",
   "execution_count": 28,
   "id": "ae58ee92",
   "metadata": {},
   "outputs": [],
   "source": [
    "# booking_date column\n",
    "fb['booking_date'] = pd.to_datetime(fb['booking_date'])"
   ]
  },
  {
   "cell_type": "code",
   "execution_count": 29,
   "id": "7968ca8d",
   "metadata": {},
   "outputs": [],
   "source": [
    "# check_in_date column\n",
    "fb['check_in_date'] = pd.to_datetime(fb['check_in_date'])"
   ]
  },
  {
   "cell_type": "code",
   "execution_count": 30,
   "id": "bddce267",
   "metadata": {},
   "outputs": [],
   "source": [
    "# check_in_date column\n",
    "fb['checkout_date'] = pd.to_datetime(fb['checkout_date'])"
   ]
  },
  {
   "cell_type": "markdown",
   "id": "5b3c7037",
   "metadata": {},
   "source": [
    "### 𝖣𝖺𝗍𝖺𝗌𝖾𝗍 𝖥𝗂𝗋𝗌𝗍 𝖵𝗂𝖾𝗐"
   ]
  },
  {
   "cell_type": "code",
   "execution_count": 31,
   "id": "626dd405",
   "metadata": {},
   "outputs": [
    {
     "data": {
      "text/html": [
       "<div>\n",
       "<style scoped>\n",
       "    .dataframe tbody tr th:only-of-type {\n",
       "        vertical-align: middle;\n",
       "    }\n",
       "\n",
       "    .dataframe tbody tr th {\n",
       "        vertical-align: top;\n",
       "    }\n",
       "\n",
       "    .dataframe thead th {\n",
       "        text-align: right;\n",
       "    }\n",
       "</style>\n",
       "<table border=\"1\" class=\"dataframe\">\n",
       "  <thead>\n",
       "    <tr style=\"text-align: right;\">\n",
       "      <th></th>\n",
       "      <th>booking_id</th>\n",
       "      <th>property_id</th>\n",
       "      <th>booking_date</th>\n",
       "      <th>check_in_date</th>\n",
       "      <th>checkout_date</th>\n",
       "      <th>no_guests</th>\n",
       "      <th>room_category</th>\n",
       "      <th>booking_platform</th>\n",
       "      <th>ratings_given</th>\n",
       "      <th>booking_status</th>\n",
       "      <th>revenue_generated</th>\n",
       "      <th>revenue_realized</th>\n",
       "    </tr>\n",
       "  </thead>\n",
       "  <tbody>\n",
       "    <tr>\n",
       "      <th>0</th>\n",
       "      <td>May012216558RT11</td>\n",
       "      <td>16558</td>\n",
       "      <td>2022-04-27</td>\n",
       "      <td>2022-05-01</td>\n",
       "      <td>2022-05-02</td>\n",
       "      <td>3</td>\n",
       "      <td>RT1</td>\n",
       "      <td>direct online</td>\n",
       "      <td>1.0</td>\n",
       "      <td>Checked Out</td>\n",
       "      <td>10010</td>\n",
       "      <td>10010</td>\n",
       "    </tr>\n",
       "    <tr>\n",
       "      <th>1</th>\n",
       "      <td>May012216558RT12</td>\n",
       "      <td>16558</td>\n",
       "      <td>2022-04-30</td>\n",
       "      <td>2022-05-01</td>\n",
       "      <td>2022-05-02</td>\n",
       "      <td>2</td>\n",
       "      <td>RT1</td>\n",
       "      <td>others</td>\n",
       "      <td>NaN</td>\n",
       "      <td>Cancelled</td>\n",
       "      <td>9100</td>\n",
       "      <td>3640</td>\n",
       "    </tr>\n",
       "    <tr>\n",
       "      <th>2</th>\n",
       "      <td>May012216558RT13</td>\n",
       "      <td>16558</td>\n",
       "      <td>2022-04-28</td>\n",
       "      <td>2022-05-01</td>\n",
       "      <td>2022-05-04</td>\n",
       "      <td>2</td>\n",
       "      <td>RT1</td>\n",
       "      <td>logtrip</td>\n",
       "      <td>5.0</td>\n",
       "      <td>Checked Out</td>\n",
       "      <td>9100</td>\n",
       "      <td>9100</td>\n",
       "    </tr>\n",
       "    <tr>\n",
       "      <th>3</th>\n",
       "      <td>May012216558RT14</td>\n",
       "      <td>16558</td>\n",
       "      <td>2022-04-28</td>\n",
       "      <td>2022-05-01</td>\n",
       "      <td>2022-05-02</td>\n",
       "      <td>2</td>\n",
       "      <td>RT1</td>\n",
       "      <td>others</td>\n",
       "      <td>NaN</td>\n",
       "      <td>Cancelled</td>\n",
       "      <td>9100</td>\n",
       "      <td>3640</td>\n",
       "    </tr>\n",
       "    <tr>\n",
       "      <th>4</th>\n",
       "      <td>May012216558RT15</td>\n",
       "      <td>16558</td>\n",
       "      <td>2022-04-27</td>\n",
       "      <td>2022-05-01</td>\n",
       "      <td>2022-05-02</td>\n",
       "      <td>4</td>\n",
       "      <td>RT1</td>\n",
       "      <td>direct online</td>\n",
       "      <td>5.0</td>\n",
       "      <td>Checked Out</td>\n",
       "      <td>10920</td>\n",
       "      <td>10920</td>\n",
       "    </tr>\n",
       "  </tbody>\n",
       "</table>\n",
       "</div>"
      ],
      "text/plain": [
       "         booking_id  property_id booking_date check_in_date checkout_date   \n",
       "0  May012216558RT11        16558   2022-04-27    2022-05-01    2022-05-02  \\\n",
       "1  May012216558RT12        16558   2022-04-30    2022-05-01    2022-05-02   \n",
       "2  May012216558RT13        16558   2022-04-28    2022-05-01    2022-05-04   \n",
       "3  May012216558RT14        16558   2022-04-28    2022-05-01    2022-05-02   \n",
       "4  May012216558RT15        16558   2022-04-27    2022-05-01    2022-05-02   \n",
       "\n",
       "   no_guests room_category booking_platform  ratings_given booking_status   \n",
       "0          3           RT1    direct online            1.0    Checked Out  \\\n",
       "1          2           RT1           others            NaN      Cancelled   \n",
       "2          2           RT1          logtrip            5.0    Checked Out   \n",
       "3          2           RT1           others            NaN      Cancelled   \n",
       "4          4           RT1    direct online            5.0    Checked Out   \n",
       "\n",
       "   revenue_generated  revenue_realized  \n",
       "0              10010             10010  \n",
       "1               9100              3640  \n",
       "2               9100              9100  \n",
       "3               9100              3640  \n",
       "4              10920             10920  "
      ]
     },
     "execution_count": 31,
     "metadata": {},
     "output_type": "execute_result"
    }
   ],
   "source": [
    "fb.head()"
   ]
  },
  {
   "cell_type": "markdown",
   "id": "0e0bbdea",
   "metadata": {},
   "source": [
    "𝐡𝐞𝐚𝐝() - This function is used to get the first n rows, which is five by default."
   ]
  },
  {
   "cell_type": "markdown",
   "id": "97da8eba",
   "metadata": {},
   "source": [
    "### • 𝖭𝗈𝗐, 𝗌𝖺𝗏𝖾 𝗍𝗁𝖾 𝖼𝗅𝖾𝖺𝗇 𝖽ata as named: 𝙘𝙡𝙚𝙖𝙣_𝙛𝙖𝙘𝙩_𝙗𝙤𝙤𝙠𝙞𝙣𝙜𝙨"
   ]
  },
  {
   "cell_type": "code",
   "execution_count": 32,
   "id": "7c7f8268",
   "metadata": {},
   "outputs": [],
   "source": [
    "fb.to_csv(r\"E:\\Unified_Mentor_Internship\\Atliq_Hospitality_Analysis_Project\\Clean_Hospitality_datasets\\clean_fact_bookings.csv\", index=False)"
   ]
  },
  {
   "cell_type": "markdown",
   "id": "b251e50b",
   "metadata": {},
   "source": [
    "## ⑤ 𝐝𝐢𝐦_𝐡𝐨𝐭𝐞𝐥𝐬 𝐝𝐚𝐭𝐚𝐬𝐞𝐭:-"
   ]
  },
  {
   "cell_type": "code",
   "execution_count": 33,
   "id": "d81680ff",
   "metadata": {
    "scrolled": true
   },
   "outputs": [
    {
     "data": {
      "text/html": [
       "<div>\n",
       "<style scoped>\n",
       "    .dataframe tbody tr th:only-of-type {\n",
       "        vertical-align: middle;\n",
       "    }\n",
       "\n",
       "    .dataframe tbody tr th {\n",
       "        vertical-align: top;\n",
       "    }\n",
       "\n",
       "    .dataframe thead th {\n",
       "        text-align: right;\n",
       "    }\n",
       "</style>\n",
       "<table border=\"1\" class=\"dataframe\">\n",
       "  <thead>\n",
       "    <tr style=\"text-align: right;\">\n",
       "      <th></th>\n",
       "      <th>property_id</th>\n",
       "      <th>property_name</th>\n",
       "      <th>category</th>\n",
       "      <th>city</th>\n",
       "    </tr>\n",
       "  </thead>\n",
       "  <tbody>\n",
       "    <tr>\n",
       "      <th>0</th>\n",
       "      <td>16558</td>\n",
       "      <td>Atliq Grands</td>\n",
       "      <td>Luxury</td>\n",
       "      <td>Delhi</td>\n",
       "    </tr>\n",
       "    <tr>\n",
       "      <th>1</th>\n",
       "      <td>16559</td>\n",
       "      <td>Atliq Exotica</td>\n",
       "      <td>Luxury</td>\n",
       "      <td>Mumbai</td>\n",
       "    </tr>\n",
       "    <tr>\n",
       "      <th>2</th>\n",
       "      <td>16560</td>\n",
       "      <td>Atliq City</td>\n",
       "      <td>Business</td>\n",
       "      <td>Delhi</td>\n",
       "    </tr>\n",
       "    <tr>\n",
       "      <th>3</th>\n",
       "      <td>16561</td>\n",
       "      <td>Atliq Blu</td>\n",
       "      <td>Luxury</td>\n",
       "      <td>Delhi</td>\n",
       "    </tr>\n",
       "    <tr>\n",
       "      <th>4</th>\n",
       "      <td>16562</td>\n",
       "      <td>Atliq Bay</td>\n",
       "      <td>Luxury</td>\n",
       "      <td>Delhi</td>\n",
       "    </tr>\n",
       "    <tr>\n",
       "      <th>5</th>\n",
       "      <td>16563</td>\n",
       "      <td>Atliq Palace</td>\n",
       "      <td>Business</td>\n",
       "      <td>Delhi</td>\n",
       "    </tr>\n",
       "    <tr>\n",
       "      <th>6</th>\n",
       "      <td>17558</td>\n",
       "      <td>Atliq Grands</td>\n",
       "      <td>Luxury</td>\n",
       "      <td>Mumbai</td>\n",
       "    </tr>\n",
       "    <tr>\n",
       "      <th>7</th>\n",
       "      <td>17559</td>\n",
       "      <td>Atliq Exotica</td>\n",
       "      <td>Luxury</td>\n",
       "      <td>Mumbai</td>\n",
       "    </tr>\n",
       "    <tr>\n",
       "      <th>8</th>\n",
       "      <td>17560</td>\n",
       "      <td>Atliq City</td>\n",
       "      <td>Business</td>\n",
       "      <td>Mumbai</td>\n",
       "    </tr>\n",
       "    <tr>\n",
       "      <th>9</th>\n",
       "      <td>17561</td>\n",
       "      <td>Atliq Blu</td>\n",
       "      <td>Luxury</td>\n",
       "      <td>Mumbai</td>\n",
       "    </tr>\n",
       "    <tr>\n",
       "      <th>10</th>\n",
       "      <td>17562</td>\n",
       "      <td>Atliq Bay</td>\n",
       "      <td>Luxury</td>\n",
       "      <td>Mumbai</td>\n",
       "    </tr>\n",
       "    <tr>\n",
       "      <th>11</th>\n",
       "      <td>17563</td>\n",
       "      <td>Atliq Palace</td>\n",
       "      <td>Business</td>\n",
       "      <td>Mumbai</td>\n",
       "    </tr>\n",
       "    <tr>\n",
       "      <th>12</th>\n",
       "      <td>18558</td>\n",
       "      <td>Atliq Grands</td>\n",
       "      <td>Luxury</td>\n",
       "      <td>Hyderabad</td>\n",
       "    </tr>\n",
       "    <tr>\n",
       "      <th>13</th>\n",
       "      <td>18559</td>\n",
       "      <td>Atliq Exotica</td>\n",
       "      <td>Luxury</td>\n",
       "      <td>Hyderabad</td>\n",
       "    </tr>\n",
       "    <tr>\n",
       "      <th>14</th>\n",
       "      <td>18560</td>\n",
       "      <td>Atliq City</td>\n",
       "      <td>Business</td>\n",
       "      <td>Hyderabad</td>\n",
       "    </tr>\n",
       "    <tr>\n",
       "      <th>15</th>\n",
       "      <td>18561</td>\n",
       "      <td>Atliq Blu</td>\n",
       "      <td>Luxury</td>\n",
       "      <td>Hyderabad</td>\n",
       "    </tr>\n",
       "    <tr>\n",
       "      <th>16</th>\n",
       "      <td>18562</td>\n",
       "      <td>Atliq Bay</td>\n",
       "      <td>Luxury</td>\n",
       "      <td>Hyderabad</td>\n",
       "    </tr>\n",
       "    <tr>\n",
       "      <th>17</th>\n",
       "      <td>18563</td>\n",
       "      <td>Atliq Palace</td>\n",
       "      <td>Business</td>\n",
       "      <td>Hyderabad</td>\n",
       "    </tr>\n",
       "    <tr>\n",
       "      <th>18</th>\n",
       "      <td>19558</td>\n",
       "      <td>Atliq Grands</td>\n",
       "      <td>Luxury</td>\n",
       "      <td>Bangalore</td>\n",
       "    </tr>\n",
       "    <tr>\n",
       "      <th>19</th>\n",
       "      <td>19559</td>\n",
       "      <td>Atliq Exotica</td>\n",
       "      <td>Luxury</td>\n",
       "      <td>Bangalore</td>\n",
       "    </tr>\n",
       "    <tr>\n",
       "      <th>20</th>\n",
       "      <td>19560</td>\n",
       "      <td>Atliq City</td>\n",
       "      <td>Business</td>\n",
       "      <td>Bangalore</td>\n",
       "    </tr>\n",
       "    <tr>\n",
       "      <th>21</th>\n",
       "      <td>19561</td>\n",
       "      <td>Atliq Blu</td>\n",
       "      <td>Luxury</td>\n",
       "      <td>Bangalore</td>\n",
       "    </tr>\n",
       "    <tr>\n",
       "      <th>22</th>\n",
       "      <td>19562</td>\n",
       "      <td>Atliq Bay</td>\n",
       "      <td>Luxury</td>\n",
       "      <td>Bangalore</td>\n",
       "    </tr>\n",
       "    <tr>\n",
       "      <th>23</th>\n",
       "      <td>19563</td>\n",
       "      <td>Atliq Palace</td>\n",
       "      <td>Business</td>\n",
       "      <td>Bangalore</td>\n",
       "    </tr>\n",
       "    <tr>\n",
       "      <th>24</th>\n",
       "      <td>17564</td>\n",
       "      <td>Atliq Seasons</td>\n",
       "      <td>Business</td>\n",
       "      <td>Mumbai</td>\n",
       "    </tr>\n",
       "  </tbody>\n",
       "</table>\n",
       "</div>"
      ],
      "text/plain": [
       "    property_id  property_name  category       city\n",
       "0         16558   Atliq Grands    Luxury      Delhi\n",
       "1         16559  Atliq Exotica    Luxury     Mumbai\n",
       "2         16560     Atliq City  Business      Delhi\n",
       "3         16561      Atliq Blu    Luxury      Delhi\n",
       "4         16562      Atliq Bay    Luxury      Delhi\n",
       "5         16563   Atliq Palace  Business      Delhi\n",
       "6         17558   Atliq Grands    Luxury     Mumbai\n",
       "7         17559  Atliq Exotica    Luxury     Mumbai\n",
       "8         17560     Atliq City  Business     Mumbai\n",
       "9         17561      Atliq Blu    Luxury     Mumbai\n",
       "10        17562      Atliq Bay    Luxury     Mumbai\n",
       "11        17563   Atliq Palace  Business     Mumbai\n",
       "12        18558   Atliq Grands    Luxury  Hyderabad\n",
       "13        18559  Atliq Exotica    Luxury  Hyderabad\n",
       "14        18560     Atliq City  Business  Hyderabad\n",
       "15        18561      Atliq Blu    Luxury  Hyderabad\n",
       "16        18562      Atliq Bay    Luxury  Hyderabad\n",
       "17        18563   Atliq Palace  Business  Hyderabad\n",
       "18        19558   Atliq Grands    Luxury  Bangalore\n",
       "19        19559  Atliq Exotica    Luxury  Bangalore\n",
       "20        19560     Atliq City  Business  Bangalore\n",
       "21        19561      Atliq Blu    Luxury  Bangalore\n",
       "22        19562      Atliq Bay    Luxury  Bangalore\n",
       "23        19563   Atliq Palace  Business  Bangalore\n",
       "24        17564  Atliq Seasons  Business     Mumbai"
      ]
     },
     "execution_count": 33,
     "metadata": {},
     "output_type": "execute_result"
    }
   ],
   "source": [
    "dh = pd.read_csv(r\"E:\\Unified_Mentor_Internship\\Atliq_Hospitality_Analysis_Project\\Hospitality_datasets\\dim_hotels.csv\")\n",
    "dh"
   ]
  },
  {
   "cell_type": "markdown",
   "id": "c1570a1d",
   "metadata": {},
   "source": [
    "### 𝖣𝖺𝗍𝖺𝗌𝖾𝗍 𝖱𝗈𝗐𝗌 & 𝖢𝗈𝗅𝗎𝗆𝗇𝗌 𝖼𝗈𝗎𝗇𝗍"
   ]
  },
  {
   "cell_type": "code",
   "execution_count": 34,
   "id": "c040725f",
   "metadata": {},
   "outputs": [
    {
     "data": {
      "text/plain": [
       "(25, 4)"
      ]
     },
     "execution_count": 34,
     "metadata": {},
     "output_type": "execute_result"
    }
   ],
   "source": [
    "# Dataset Rows & Columns count\n",
    "dh.shape    # There are 25 observations and 4 features in our dataset"
   ]
  },
  {
   "cell_type": "markdown",
   "id": "4098ae10",
   "metadata": {},
   "source": [
    "𝐬𝐡𝐚𝐩𝐞() - The shape property returns a tuple containing the shape of the DataFrame."
   ]
  },
  {
   "cell_type": "markdown",
   "id": "8a89f84d",
   "metadata": {},
   "source": [
    "### 𝖣𝖺𝗍𝖺𝗌𝖾𝗍 𝖨𝗇𝖿𝗈𝗋𝗆𝖺𝗍𝗂𝗈𝗇"
   ]
  },
  {
   "cell_type": "code",
   "execution_count": 35,
   "id": "6112be16",
   "metadata": {},
   "outputs": [
    {
     "name": "stdout",
     "output_type": "stream",
     "text": [
      "<class 'pandas.core.frame.DataFrame'>\n",
      "RangeIndex: 25 entries, 0 to 24\n",
      "Data columns (total 4 columns):\n",
      " #   Column         Non-Null Count  Dtype \n",
      "---  ------         --------------  ----- \n",
      " 0   property_id    25 non-null     int64 \n",
      " 1   property_name  25 non-null     object\n",
      " 2   category       25 non-null     object\n",
      " 3   city           25 non-null     object\n",
      "dtypes: int64(1), object(3)\n",
      "memory usage: 932.0+ bytes\n"
     ]
    }
   ],
   "source": [
    "dh.info()"
   ]
  },
  {
   "cell_type": "markdown",
   "id": "730b052b",
   "metadata": {},
   "source": [
    "𝐢𝐧𝐟𝐨() - This method prints information about the DataFrame."
   ]
  },
  {
   "cell_type": "markdown",
   "id": "ac53f010",
   "metadata": {},
   "source": [
    "There are no null values in our 𝒅𝒊𝒎_𝒉𝒐𝒕𝒆𝒍𝒔 dataset."
   ]
  },
  {
   "cell_type": "markdown",
   "id": "91bbfae2",
   "metadata": {},
   "source": [
    "### 𝖣𝗎𝗉𝗅𝗂𝖼𝖺𝗍𝖾𝖽  𝗏𝖺𝗅𝗎𝖾𝗌"
   ]
  },
  {
   "cell_type": "code",
   "execution_count": 36,
   "id": "05d1b637",
   "metadata": {},
   "outputs": [
    {
     "data": {
      "text/plain": [
       "0"
      ]
     },
     "execution_count": 36,
     "metadata": {},
     "output_type": "execute_result"
    }
   ],
   "source": [
    "# Dataset duplicate value count\n",
    "dh.duplicated().sum()"
   ]
  },
  {
   "cell_type": "markdown",
   "id": "94cfa2da",
   "metadata": {},
   "source": [
    "There are no duplicate values in our dataset"
   ]
  },
  {
   "cell_type": "markdown",
   "id": "b2d42df9",
   "metadata": {},
   "source": [
    "### Information about the Dataset\n",
    "1. We can see that there are 25 observations and 4 features in our dataset.\n",
    "2. We have property_id, property_name, category and city."
   ]
  },
  {
   "cell_type": "markdown",
   "id": "88898d51",
   "metadata": {},
   "source": [
    "###  • For the 𝙙𝙞𝙢_𝙝𝙤𝙩𝙚𝙡𝙨 dataset there is not need to clean or do anythhing so resave it again as  named: 𝙘𝙡𝙚𝙖𝙣_𝙙𝙞𝙢_𝙝𝙤𝙩𝙚𝙡𝙨"
   ]
  },
  {
   "cell_type": "code",
   "execution_count": 37,
   "id": "0439afde",
   "metadata": {},
   "outputs": [],
   "source": [
    "dh.to_csv(r\"E:\\Unified_Mentor_Internship\\Atliq_Hospitality_Analysis_Project\\Clean_Hospitality_datasets\\clean_dim_hotels.csv\", index=False)"
   ]
  },
  {
   "cell_type": "code",
   "execution_count": null,
   "id": "6fa738cd",
   "metadata": {},
   "outputs": [],
   "source": []
  }
 ],
 "metadata": {
  "kernelspec": {
   "display_name": "Python 3 (ipykernel)",
   "language": "python",
   "name": "python3"
  },
  "language_info": {
   "codemirror_mode": {
    "name": "ipython",
    "version": 3
   },
   "file_extension": ".py",
   "mimetype": "text/x-python",
   "name": "python",
   "nbconvert_exporter": "python",
   "pygments_lexer": "ipython3",
   "version": "3.11.3"
  }
 },
 "nbformat": 4,
 "nbformat_minor": 5
}
